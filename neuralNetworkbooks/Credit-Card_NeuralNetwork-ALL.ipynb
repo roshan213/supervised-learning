{
 "cells": [
  {
   "cell_type": "code",
   "execution_count": 1,
   "metadata": {},
   "outputs": [],
   "source": [
    "from sklearn import tree\n",
    "from sklearn.model_selection import train_test_split\n",
    "import numpy as np\n",
    "from sklearn.datasets import load_iris\n",
    "from sklearn.datasets import load_breast_cancer\n",
    "from sklearn.tree import DecisionTreeClassifier, export_graphviz\n",
    "from sklearn.externals.six import StringIO\n",
    "from IPython.display import Image, display\n",
    "import pydotplus\n",
    "import pandas as pd\n",
    "import numpy as np\n",
    "import matplotlib.pyplot as plt\n",
    "from sklearn.preprocessing import LabelEncoder\n",
    "\n",
    "from sklearn.pipeline import Pipeline\n",
    "from sklearn.preprocessing import Normalizer, MinMaxScaler, StandardScaler, RobustScaler, QuantileTransformer, LabelEncoder\n",
    "from sklearn.model_selection import train_test_split, StratifiedKFold, GridSearchCV, cross_val_score\n",
    "from sklearn.neural_network import MLPClassifier\n",
    "\n",
    "df = pd.read_csv(\"../creditcard.csv\")\n",
    "df = df.sample(frac=1)\n",
    "# amount of fraud classes 492 rows.\n",
    "fraud_df = df.loc[df['Class'] == 1]\n",
    "non_fraud_df = df.loc[df['Class'] == 0][:5000]\n",
    "\n",
    "normal_distributed_df = pd.concat([fraud_df, non_fraud_df])\n",
    "\n",
    "# Shuffle dataframe rows\n",
    "fraud_data = normal_distributed_df.sample(frac=1, random_state=42)\n",
    "\n",
    "\n",
    "data = fraud_data.loc[:, fraud_data.columns != 'Class'] \n",
    "target = fraud_data.loc[:, fraud_data.columns == 'Class'] \n",
    "#print list(fraud_data)\n",
    "\n",
    "# train_data, test_data, train_target, test_target = train_test_split(data, target, test_size=0.15)\n",
    "# clf = MLPClassifier(solver='lbfgs', alpha=1e-5, hidden_layer_sizes=(5, 2), random_state=1)\n",
    "# clf.fit(train_data, train_target)\n",
    "# clf.score(test_data,test_target)"
   ]
  },
  {
   "cell_type": "code",
   "execution_count": 3,
   "metadata": {},
   "outputs": [],
   "source": [
    "# NUM_TIMS_TO_RUN=10\n",
    "\n",
    "# classification__activation= ['identity', 'logistic', 'tanh', 'relu']\n",
    "# sum_test_accuracy_list=np.array([0,0])\n",
    "# sum_train_accuracy_list=np.array([0,0])\n",
    "# train_data, test_data, train_target, test_target = train_test_split(data, target, test_size=0.15)\n",
    "\n",
    "# for j in range(NUM_TIMS_TO_RUN):\n",
    "#     test_accuracy_list=[]\n",
    "#     train_accuracy_list = []\n",
    "#     counter=0\n",
    "#     for i in classification__activation:\n",
    "#         clf =  MLPClassifier(activation=i)\n",
    "#         #Fit train Data and test against test data\n",
    "#         clf.fit(train_data, train_target)\n",
    "#         test_accuracy_list.append([counter,clf.score(test_data,test_target)])\n",
    "#         #print test_accuracy_list\n",
    "#         #Ftest against training data\n",
    "#         train_accuracy_list.append([counter,clf.score(train_data,train_target)])\n",
    "#         counter=counter+1\n",
    "\n",
    "    \n",
    "#     sum_test_accuracy_list = sum_test_accuracy_list + np.array(test_accuracy_list)\n",
    "#     sum_train_accuracy_list = sum_train_accuracy_list + np.array(train_accuracy_list)\n",
    "\n",
    "# avg_test_prediction= sum_test_accuracy_list/NUM_TIMS_TO_RUN\n",
    "# avg_train_prediction =sum_train_accuracy_list/NUM_TIMS_TO_RUN\n",
    "# #print avg_test_prediction, avg_train_prediction\n",
    "\n",
    "# plt.xlabel('Activation')\n",
    "# plt.ylabel('Accuracy')\n",
    "# plt.ylim((.6,1))\n",
    "# my_xticks = classification__activation\n",
    "# plt.xticks(avg_test_prediction[:,0],my_xticks)\n",
    "# plt.plot(avg_test_prediction[:,0],avg_test_prediction[:,1], label='Test')\n",
    "# plt.plot(avg_train_prediction[:,0],avg_train_prediction[:,1], label='Train')\n",
    "# plt.title('Accuracy vs Activation')\n",
    "# plt.legend()\n",
    "# plt.show()"
   ]
  },
  {
   "cell_type": "code",
   "execution_count": 4,
   "metadata": {},
   "outputs": [],
   "source": [
    "# plt.xlabel('Activation')\n",
    "# plt.ylabel('Accuracy')\n",
    "# plt.ylim((.6,1))\n",
    "# my_xticks = classification__activation\n",
    "# plt.xticks(avg_test_prediction[:,0],my_xticks)\n",
    "# plt.plot(avg_test_prediction[:,0],avg_test_prediction[:,1], label='Test')\n",
    "# plt.plot(avg_train_prediction[:,0],avg_train_prediction[:,1], label='Train')\n",
    "# plt.title('Accuracy vs Activation')\n",
    "# plt.legend()\n",
    "# plt.show()"
   ]
  },
  {
   "cell_type": "code",
   "execution_count": 5,
   "metadata": {},
   "outputs": [],
   "source": [
    "# NUM_TIMS_TO_RUN=10\n",
    "\n",
    "# classification__solver= ['lbfgs', 'sgd', 'adam']\n",
    "# sum_test_accuracy_list=np.array([0,0])\n",
    "# sum_train_accuracy_list=np.array([0,0])\n",
    "\n",
    "# for j in range(NUM_TIMS_TO_RUN):\n",
    "#     test_accuracy_list=[]\n",
    "#     train_accuracy_list = []\n",
    "#     counter=0\n",
    "#     for i in classification__solver:\n",
    "#         clf =  MLPClassifier(solver=i)\n",
    "#         train_data, test_data, train_target, test_target = train_test_split(data, target, test_size=0.15)\n",
    "#         #Fit train Data and test against test data\n",
    "#         clf.fit(train_data, train_target)\n",
    "#         test_accuracy_list.append([counter,clf.score(test_data,test_target)])\n",
    "#         #print test_accuracy_list\n",
    "#         #Ftest against training data\n",
    "#         train_accuracy_list.append([counter,clf.score(train_data,train_target)])\n",
    "#         counter=counter+1\n",
    "\n",
    "    \n",
    "#     sum_test_accuracy_list = sum_test_accuracy_list + np.array(test_accuracy_list)\n",
    "#     sum_train_accuracy_list = sum_train_accuracy_list + np.array(train_accuracy_list)\n",
    "\n",
    "# avg_test_prediction= sum_test_accuracy_list/NUM_TIMS_TO_RUN\n",
    "# avg_train_prediction =sum_train_accuracy_list/NUM_TIMS_TO_RUN\n",
    "# #print avg_test_prediction, avg_train_prediction\n",
    "\n",
    "# plt.xlabel('Solver')\n",
    "# plt.ylabel('Accuracy')\n",
    "# plt.ylim((.5,1))\n",
    "# plt.xticks(avg_test_prediction[:,0],classification__solver)\n",
    "# plt.plot(avg_test_prediction[:,0],avg_test_prediction[:,1], label='Test')\n",
    "# plt.plot(avg_train_prediction[:,0],avg_train_prediction[:,1], label='Train')\n",
    "# plt.title('Accuracy vs Solver')\n",
    "# plt.legend()\n",
    "# plt.show()"
   ]
  },
  {
   "cell_type": "code",
   "execution_count": 6,
   "metadata": {},
   "outputs": [],
   "source": [
    "# NUM_TIMS_TO_RUN=10\n",
    "\n",
    "# classification__alpha=[1e-4, 1e-3, 0.01, 0.1, 1]\n",
    "# sum_test_accuracy_list=np.array([0,0])\n",
    "# sum_train_accuracy_list=np.array([0,0])\n",
    "\n",
    "# for j in range(NUM_TIMS_TO_RUN):\n",
    "#     test_accuracy_list=[]\n",
    "#     train_accuracy_list = []\n",
    "#     counter=0\n",
    "#     for i in classification__alpha:\n",
    "#         clf =  MLPClassifier(alpha=i)\n",
    "#         train_data, test_data, train_target, test_target = train_test_split(data, target, test_size=0.15)\n",
    "#         #Fit train Data and test against test data\n",
    "#         clf.fit(train_data, train_target)\n",
    "#         test_accuracy_list.append([counter,clf.score(test_data,test_target)])\n",
    "#         #print test_accuracy_list\n",
    "#         #Ftest against training data\n",
    "#         train_accuracy_list.append([counter,clf.score(train_data,train_target)])\n",
    "#         counter=counter+1\n",
    "\n",
    "    \n",
    "#     sum_test_accuracy_list = sum_test_accuracy_list + np.array(test_accuracy_list)\n",
    "#     sum_train_accuracy_list = sum_train_accuracy_list + np.array(train_accuracy_list)\n",
    "\n",
    "# avg_test_prediction= sum_test_accuracy_list/NUM_TIMS_TO_RUN\n",
    "# avg_train_prediction =sum_train_accuracy_list/NUM_TIMS_TO_RUN\n",
    "# #print avg_test_prediction, avg_train_prediction\n",
    "\n",
    "# plt.xlabel('alpha')\n",
    "# plt.ylabel('Accuracy')\n",
    "# plt.ylim((.5,1))\n",
    "# my_xticks = classification__alpha\n",
    "# plt.xticks(avg_test_prediction[:,0],my_xticks)\n",
    "# plt.plot(avg_test_prediction[:,0],avg_test_prediction[:,1], label='Test')\n",
    "# plt.plot(avg_train_prediction[:,0],avg_train_prediction[:,1], label='Train')\n",
    "# plt.title('Accuracy vs alpha')\n",
    "# plt.legend()\n",
    "# plt.show()"
   ]
  },
  {
   "cell_type": "code",
   "execution_count": 7,
   "metadata": {
    "scrolled": true
   },
   "outputs": [
    {
     "name": "stderr",
     "output_type": "stream",
     "text": [
      "C:\\Users\\rosha\\Anaconda2\\envs\\skLearn\\lib\\site-packages\\sklearn\\neural_network\\multilayer_perceptron.py:916: DataConversionWarning: A column-vector y was passed when a 1d array was expected. Please change the shape of y to (n_samples, ), for example using ravel().\n",
      "  y = column_or_1d(y, warn=True)\n",
      "C:\\Users\\rosha\\Anaconda2\\envs\\skLearn\\lib\\site-packages\\sklearn\\neural_network\\multilayer_perceptron.py:562: ConvergenceWarning: Stochastic Optimizer: Maximum iterations (200) reached and the optimization hasn't converged yet.\n",
      "  % self.max_iter, ConvergenceWarning)\n"
     ]
    },
    {
     "data": {
      "image/png": "[encoded data removed]",
      "text/plain": [
       "<Figure size 432x288 with 1 Axes>"
      ]
     },
     "metadata": {
      "needs_background": "light"
     },
     "output_type": "display_data"
    }
   ],
   "source": [
    "NUM_TIMS_TO_RUN=10\n",
    "HIDDEN_LAYERS=500\n",
    "sum_test_accuracy_list=np.array([0,0])\n",
    "sum_train_accuracy_list=np.array([0,0])\n",
    "\n",
    "for j in range(NUM_TIMS_TO_RUN):\n",
    "    test_accuracy_list=[]\n",
    "    train_accuracy_list = []\n",
    "    counter=0\n",
    "    for i in range(1,201,20):\n",
    "        clf =  MLPClassifier(hidden_layer_sizes=(i))\n",
    "        train_data, test_data, train_target, test_target = train_test_split(data, target, test_size=0.15)\n",
    "        #Fit train Data and test against test data\n",
    "        clf.fit(train_data, train_target)\n",
    "        test_accuracy_list.append([i,clf.score(test_data,test_target)])\n",
    "        #print test_accuracy_list\n",
    "        #Ftest against training data\n",
    "        train_accuracy_list.append([i,clf.score(train_data,train_target)])\n",
    "        counter=counter+1\n",
    "\n",
    "    \n",
    "    sum_test_accuracy_list = sum_test_accuracy_list + np.array(test_accuracy_list)\n",
    "    sum_train_accuracy_list = sum_train_accuracy_list + np.array(train_accuracy_list)\n",
    "\n",
    "avg_test_prediction= sum_test_accuracy_list/NUM_TIMS_TO_RUN\n",
    "avg_train_prediction =sum_train_accuracy_list/NUM_TIMS_TO_RUN\n",
    "#print avg_test_prediction, avg_train_prediction\n",
    "\n",
    "plt.xlabel('Units per Hidden layer')\n",
    "plt.ylabel('Accuracy')\n",
    "plt.ylim((.4,1))\n",
    "plt.plot(avg_test_prediction[:,0],avg_test_prediction[:,1], label='Test')\n",
    "plt.plot(avg_train_prediction[:,0],avg_train_prediction[:,1], label='Train')\n",
    "plt.title('Accuracy vs Units per Hidden layer')\n",
    "plt.legend()\n",
    "plt.show()"
   ]
  },
  {
   "cell_type": "code",
   "execution_count": 8,
   "metadata": {},
   "outputs": [
    {
     "name": "stdout",
     "output_type": "stream",
     "text": [
      "[[   1.            0.90970874]\n",
      " [  21.            0.85024272]\n",
      " [  41.            0.85400485]\n",
      " [  61.            0.93070388]\n",
      " [  81.            0.83895631]\n",
      " [ 101.            0.83167476]\n",
      " [ 121.            0.85084951]\n",
      " [ 141.            0.93252427]\n",
      " [ 161.            0.92427184]\n",
      " [ 181.            0.93264563]] [[   1.            0.91056127]\n",
      " [  21.            0.85117823]\n",
      " [  41.            0.85017138]\n",
      " [  61.            0.92990574]\n",
      " [  81.            0.84273779]\n",
      " [ 101.            0.83324764]\n",
      " [ 121.            0.84989289]\n",
      " [ 141.            0.92915596]\n",
      " [ 161.            0.92572836]\n",
      " [ 181.            0.9337832 ]]\n"
     ]
    },
    {
     "data": {
      "image/png": "[encoded data removed]",
      "text/plain": [
       "<Figure size 432x288 with 1 Axes>"
      ]
     },
     "metadata": {
      "needs_background": "light"
     },
     "output_type": "display_data"
    }
   ],
   "source": [
    "print avg_test_prediction, avg_train_prediction\n",
    "\n",
    "plt.xlabel('Units per Hidden layer')\n",
    "plt.ylabel('Accuracy')\n",
    "plt.ylim((.6,1))\n",
    "plt.plot(avg_test_prediction[:,0],avg_test_prediction[:,1], label='Test')\n",
    "plt.plot(avg_train_prediction[:,0],avg_train_prediction[:,1], label='Train')\n",
    "plt.title('Accuracy vs Units per Hidden layer')\n",
    "plt.legend()\n",
    "plt.show()"
   ]
  },
  {
   "cell_type": "code",
   "execution_count": 9,
   "metadata": {},
   "outputs": [
    {
     "data": {
      "image/png": "[encoded data removed]",
      "text/plain": [
       "<Figure size 432x288 with 1 Axes>"
      ]
     },
     "metadata": {
      "needs_background": "light"
     },
     "output_type": "display_data"
    }
   ],
   "source": [
    "NUM_TIMS_TO_RUN=10\n",
    "HIDDEN_LAYERS=200\n",
    "sum_test_accuracy_list=np.array([0,0])\n",
    "sum_train_accuracy_list=np.array([0,0])\n",
    "\n",
    "for j in range(NUM_TIMS_TO_RUN):\n",
    "    test_accuracy_list=[]\n",
    "    train_accuracy_list = []\n",
    "    counter=0\n",
    "    for i in range(1,201,20):\n",
    "        clf =  MLPClassifier(hidden_layer_sizes=(i,i,i))\n",
    "        train_data, test_data, train_target, test_target = train_test_split(data, target, test_size=0.15)\n",
    "        #Fit train Data and test against test data\n",
    "        clf.fit(train_data, train_target)\n",
    "        test_accuracy_list.append([i,clf.score(test_data,test_target)])\n",
    "        #print test_accuracy_list\n",
    "        #Ftest against training data\n",
    "        train_accuracy_list.append([i,clf.score(train_data,train_target)])\n",
    "        counter=counter+1\n",
    "\n",
    "    \n",
    "    sum_test_accuracy_list = sum_test_accuracy_list + np.array(test_accuracy_list)\n",
    "    sum_train_accuracy_list = sum_train_accuracy_list + np.array(train_accuracy_list)\n",
    "\n",
    "avg_test_prediction= sum_test_accuracy_list/NUM_TIMS_TO_RUN\n",
    "avg_train_prediction =sum_train_accuracy_list/NUM_TIMS_TO_RUN\n",
    "#print avg_test_prediction, avg_train_prediction\n",
    "\n",
    "plt.xlabel('Units per Hidden layer')\n",
    "plt.ylabel('Accuracy')\n",
    "plt.ylim((.4,1))\n",
    "plt.plot(avg_test_prediction[:,0],avg_test_prediction[:,1], label='Test')\n",
    "plt.plot(avg_train_prediction[:,0],avg_train_prediction[:,1], label='Train')\n",
    "plt.title('Accuracy vs Units per Hidden layer')\n",
    "plt.legend()\n",
    "plt.show()"
   ]
  },
  {
   "cell_type": "code",
   "execution_count": 10,
   "metadata": {},
   "outputs": [
    {
     "data": {
      "image/png": "[encoded data removed]",
      "text/plain": [
       "<Figure size 432x288 with 1 Axes>"
      ]
     },
     "metadata": {
      "needs_background": "light"
     },
     "output_type": "display_data"
    }
   ],
   "source": [
    "NUM_TIMS_TO_RUN=10\n",
    "learning_rate= ['constant', 'invscaling', 'adaptive']\n",
    "sum_test_accuracy_list=np.array([0,0])\n",
    "sum_train_accuracy_list=np.array([0,0])\n",
    "\n",
    "for j in range(NUM_TIMS_TO_RUN):\n",
    "    test_accuracy_list=[]\n",
    "    train_accuracy_list = []\n",
    "    counter=0\n",
    "    for i in learning_rate:\n",
    "        clf =  MLPClassifier(learning_rate=i)\n",
    "        train_data, test_data, train_target, test_target = train_test_split(data, target, test_size=0.15)\n",
    "        #Fit train Data and test against test data\n",
    "        clf.fit(train_data, train_target)\n",
    "        test_accuracy_list.append([counter,clf.score(test_data,test_target)])\n",
    "        #print test_accuracy_list\n",
    "        #Ftest against training data\n",
    "        train_accuracy_list.append([counter,clf.score(train_data,train_target)])\n",
    "        counter=counter+1\n",
    "\n",
    "    \n",
    "    sum_test_accuracy_list = sum_test_accuracy_list + np.array(test_accuracy_list)\n",
    "    sum_train_accuracy_list = sum_train_accuracy_list + np.array(train_accuracy_list)\n",
    "\n",
    "avg_test_prediction= sum_test_accuracy_list/NUM_TIMS_TO_RUN\n",
    "avg_train_prediction =sum_train_accuracy_list/NUM_TIMS_TO_RUN\n",
    "#print avg_test_prediction, avg_train_prediction\n",
    "\n",
    "plt.xlabel('Learning rate')\n",
    "plt.ylabel('Accuracy')\n",
    "plt.ylim((.4,1))\n",
    "plt.xticks(avg_test_prediction[:,0],learning_rate)\n",
    "\n",
    "plt.plot(avg_test_prediction[:,0],avg_test_prediction[:,1], label='Test')\n",
    "plt.plot(avg_train_prediction[:,0],avg_train_prediction[:,1], label='Train')\n",
    "plt.title('Accuracy vs Learning Rate')\n",
    "plt.legend()\n",
    "plt.show()"
   ]
  },
  {
   "cell_type": "code",
   "execution_count": 11,
   "metadata": {},
   "outputs": [
    {
     "name": "stdout",
     "output_type": "stream",
     "text": [
      "[[ 0.          0.85752427]\n",
      " [ 1.          0.9368932 ]\n",
      " [ 2.          0.9288835 ]] [[ 0.          0.8594473 ]\n",
      " [ 1.          0.9344473 ]\n",
      " [ 2.          0.93181234]]\n"
     ]
    },
    {
     "data": {
      "image/png": "[encoded data removed]",
      "text/plain": [
       "<Figure size 432x288 with 1 Axes>"
      ]
     },
     "metadata": {
      "needs_background": "light"
     },
     "output_type": "display_data"
    }
   ],
   "source": [
    "print avg_test_prediction, avg_train_prediction\n",
    "\n",
    "plt.xlabel('Learning rate')\n",
    "plt.ylabel('Accuracy')\n",
    "plt.ylim((.6,1))\n",
    "plt.xticks(avg_test_prediction[:,0],learning_rate)\n",
    "\n",
    "plt.plot(avg_test_prediction[:,0],avg_test_prediction[:,1], label='Test')\n",
    "plt.plot(avg_train_prediction[:,0],avg_train_prediction[:,1], label='Train')\n",
    "plt.title('Accuracy vs Learning Rate')\n",
    "plt.legend()\n",
    "plt.show()"
   ]
  },
  {
   "cell_type": "code",
   "execution_count": 12,
   "metadata": {},
   "outputs": [
    {
     "data": {
      "image/png": "[encoded data removed]",
      "text/plain": [
       "<Figure size 432x288 with 1 Axes>"
      ]
     },
     "metadata": {
      "needs_background": "light"
     },
     "output_type": "display_data"
    }
   ],
   "source": [
    "NUM_TIMS_TO_RUN=10\n",
    "preprocess= [Normalizer(), MinMaxScaler(), StandardScaler(), RobustScaler(), QuantileTransformer()]\n",
    "sum_test_accuracy_list=np.array([0,0])\n",
    "sum_train_accuracy_list=np.array([0,0])\n",
    "\n",
    "for j in range(NUM_TIMS_TO_RUN):\n",
    "    test_accuracy_list=[]\n",
    "    train_accuracy_list = []\n",
    "    counter=0\n",
    "    for i in preprocess:\n",
    "        scaler = i\n",
    "        train_data, test_data, train_target, test_target = train_test_split(data, target, test_size=0.15)\n",
    "\n",
    "        scaler.fit(train_data)\n",
    "        train_data = scaler.transform(train_data)\n",
    "        test_data = scaler.transform(test_data) \n",
    "        \n",
    "        clf =  MLPClassifier()\n",
    "        #Fit train Data and test against test data\n",
    "        clf.fit(train_data, train_target)\n",
    "        test_accuracy_list.append([counter,clf.score(test_data,test_target)])\n",
    "        #print test_accuracy_list\n",
    "        #Ftest against training data\n",
    "        train_accuracy_list.append([counter,clf.score(train_data,train_target)])\n",
    "        counter=counter+1\n",
    "    \n",
    "    sum_test_accuracy_list = sum_test_accuracy_list + np.array(test_accuracy_list)\n",
    "    sum_train_accuracy_list = sum_train_accuracy_list + np.array(train_accuracy_list)\n",
    "\n",
    "avg_test_prediction= sum_test_accuracy_list/NUM_TIMS_TO_RUN\n",
    "avg_train_prediction =sum_train_accuracy_list/NUM_TIMS_TO_RUN\n",
    "#print avg_test_prediction, avg_train_prediction\n",
    "\n",
    "plt.xlabel('Pre-processor')\n",
    "plt.ylabel('Accuracy')\n",
    "plt.ylim((.4,1))\n",
    "xticks= ['Normalizer', 'MinMaxSc', 'StandardSc', 'RobustSc', 'QuantileTransformer']\n",
    "\n",
    "plt.xticks(avg_test_prediction[:,0],xticks)\n",
    "\n",
    "plt.plot(avg_test_prediction[:,0],avg_test_prediction[:,1], label='Test')\n",
    "plt.plot(avg_train_prediction[:,0],avg_train_prediction[:,1], label='Train')\n",
    "plt.title('Accuracy vs Preprocessor')\n",
    "plt.legend()\n",
    "plt.show()"
   ]
  },
  {
   "cell_type": "code",
   "execution_count": 13,
   "metadata": {},
   "outputs": [
    {
     "name": "stdout",
     "output_type": "stream",
     "text": [
      "10 Fold Cross Validation Score without pre-processor 0.910421592979\n",
      "10 Fold Cross Validation Score with Standard Scaler 0.981247888723\n",
      "Test default hyperparms with Standard Scaler: 0.984223300971\n",
      "Train default hyperparms Standard Scaler: 0.998071979434\n",
      "Test best hyperParams with Standard Scaler: 0.984223300971\n",
      "Train best hyperParms with Standard Scaler: 0.980719794344\n"
     ]
    }
   ],
   "source": [
    "from sklearn.model_selection import KFold, GridSearchCV, cross_val_score, cross_val_predict, validation_curve \n",
    "kfold = KFold(n_splits=10,random_state=7)\n",
    "solver = MLPClassifier(activation='logistic', solver='sgd', alpha=1, hidden_layer_sizes=(140,))\n",
    "cv_score_noPreProcess = cross_val_score(solver, data, target, cv = kfold)\n",
    "\n",
    "scaler = StandardScaler()\n",
    "scaler.fit(data)\n",
    "data = scaler.transform(data)\n",
    "solver = MLPClassifier(activation='logistic', solver='sgd', alpha=1, hidden_layer_sizes=(140,))\n",
    "\n",
    "cv_score_preprocess = cross_val_score(solver, data, target, cv = kfold)\n",
    "\n",
    "print \"10 Fold Cross Validation Score without pre-processor\", cv_score_noPreProcess.mean()\n",
    "print \"10 Fold Cross Validation Score with Standard Scaler\", cv_score_preprocess.mean()\n",
    "\n",
    "\n",
    "scaler = StandardScaler()\n",
    "train_data, test_data, train_target, test_target = train_test_split(data, target, test_size=0.15)\n",
    "\n",
    "scaler.fit(train_data)\n",
    "train_data = scaler.transform(train_data)\n",
    "test_data = scaler.transform(test_data) \n",
    "\n",
    "clf =  MLPClassifier()\n",
    "#Fit train Data and test against test data\n",
    "clf.fit(train_data, train_target)\n",
    "print \"Test default hyperparms with Standard Scaler:\", clf.score(test_data,test_target)\n",
    "#print test_accuracy_list\n",
    "#Ftest against training data\n",
    "print \"Train default hyperparms Standard Scaler:\", clf.score(train_data,train_target)\n",
    "\n",
    "clf = MLPClassifier(activation='logistic', solver='sgd', alpha=1, hidden_layer_sizes=(140,))\n",
    "clf.fit(train_data, train_target)\n",
    "print \"Test best hyperParams with Standard Scaler:\", clf.score(test_data,test_target)\n",
    "#print test_accuracy_list\n",
    "#Ftest against training data\n",
    "print \"Train best hyperParms with Standard Scaler:\", clf.score(train_data,train_target)"
   ]
  },
  {
   "cell_type": "code",
   "execution_count": 2,
   "metadata": {},
   "outputs": [
    {
     "name": "stderr",
     "output_type": "stream",
     "text": [
      "C:\\Users\\rosha\\Anaconda2\\envs\\skLearn\\lib\\site-packages\\sklearn\\neural_network\\multilayer_perceptron.py:916: DataConversionWarning: A column-vector y was passed when a 1d array was expected. Please change the shape of y to (n_samples, ), for example using ravel().\n",
      "  y = column_or_1d(y, warn=True)\n"
     ]
    },
    {
     "ename": "KeyboardInterrupt",
     "evalue": "",
     "output_type": "error",
     "traceback": [
      "\u001b[1;31m---------------------------------------------------------------------------\u001b[0m",
      "\u001b[1;31mKeyboardInterrupt\u001b[0m                         Traceback (most recent call last)",
      "\u001b[1;32m<ipython-input-2-e259da6c7097>\u001b[0m in \u001b[0;36m<module>\u001b[1;34m()\u001b[0m\n\u001b[0;32m     20\u001b[0m         \u001b[0mtest_accuracy_list\u001b[0m\u001b[1;33m.\u001b[0m\u001b[0mappend\u001b[0m\u001b[1;33m(\u001b[0m\u001b[1;33m[\u001b[0m\u001b[0mi\u001b[0m\u001b[1;33m,\u001b[0m\u001b[0mclf\u001b[0m\u001b[1;33m.\u001b[0m\u001b[0mscore\u001b[0m\u001b[1;33m(\u001b[0m\u001b[0mtest_data\u001b[0m\u001b[1;33m,\u001b[0m\u001b[0mtest_target\u001b[0m\u001b[1;33m)\u001b[0m\u001b[1;33m]\u001b[0m\u001b[1;33m)\u001b[0m\u001b[1;33m\u001b[0m\u001b[0m\n\u001b[0;32m     21\u001b[0m         \u001b[1;31m#Ftest against training data\u001b[0m\u001b[1;33m\u001b[0m\u001b[1;33m\u001b[0m\u001b[0m\n\u001b[1;32m---> 22\u001b[1;33m         \u001b[0mtrain_accuracy_list\u001b[0m\u001b[1;33m.\u001b[0m\u001b[0mappend\u001b[0m\u001b[1;33m(\u001b[0m\u001b[1;33m[\u001b[0m\u001b[0mi\u001b[0m\u001b[1;33m,\u001b[0m\u001b[0mclf\u001b[0m\u001b[1;33m.\u001b[0m\u001b[0mscore\u001b[0m\u001b[1;33m(\u001b[0m\u001b[0mtrain_data\u001b[0m\u001b[1;33m,\u001b[0m\u001b[0mtrain_target\u001b[0m\u001b[1;33m)\u001b[0m\u001b[1;33m]\u001b[0m\u001b[1;33m)\u001b[0m\u001b[1;33m\u001b[0m\u001b[0m\n\u001b[0m\u001b[0;32m     23\u001b[0m     \u001b[0msum_test_accuracy_list\u001b[0m \u001b[1;33m=\u001b[0m \u001b[0msum_test_accuracy_list\u001b[0m \u001b[1;33m+\u001b[0m \u001b[0mnp\u001b[0m\u001b[1;33m.\u001b[0m\u001b[0marray\u001b[0m\u001b[1;33m(\u001b[0m\u001b[0mtest_accuracy_list\u001b[0m\u001b[1;33m)\u001b[0m\u001b[1;33m\u001b[0m\u001b[0m\n\u001b[0;32m     24\u001b[0m     \u001b[0msum_train_accuracy_list\u001b[0m \u001b[1;33m=\u001b[0m \u001b[0msum_train_accuracy_list\u001b[0m \u001b[1;33m+\u001b[0m \u001b[0mnp\u001b[0m\u001b[1;33m.\u001b[0m\u001b[0marray\u001b[0m\u001b[1;33m(\u001b[0m\u001b[0mtrain_accuracy_list\u001b[0m\u001b[1;33m)\u001b[0m\u001b[1;33m\u001b[0m\u001b[0m\n",
      "\u001b[1;32mC:\\Users\\rosha\\Anaconda2\\envs\\skLearn\\lib\\site-packages\\sklearn\\base.pyc\u001b[0m in \u001b[0;36mscore\u001b[1;34m(self, X, y, sample_weight)\u001b[0m\n\u001b[0;32m    286\u001b[0m         \"\"\"\n\u001b[0;32m    287\u001b[0m         \u001b[1;32mfrom\u001b[0m \u001b[1;33m.\u001b[0m\u001b[0mmetrics\u001b[0m \u001b[1;32mimport\u001b[0m \u001b[0maccuracy_score\u001b[0m\u001b[1;33m\u001b[0m\u001b[0m\n\u001b[1;32m--> 288\u001b[1;33m         \u001b[1;32mreturn\u001b[0m \u001b[0maccuracy_score\u001b[0m\u001b[1;33m(\u001b[0m\u001b[0my\u001b[0m\u001b[1;33m,\u001b[0m \u001b[0mself\u001b[0m\u001b[1;33m.\u001b[0m\u001b[0mpredict\u001b[0m\u001b[1;33m(\u001b[0m\u001b[0mX\u001b[0m\u001b[1;33m)\u001b[0m\u001b[1;33m,\u001b[0m \u001b[0msample_weight\u001b[0m\u001b[1;33m=\u001b[0m\u001b[0msample_weight\u001b[0m\u001b[1;33m)\u001b[0m\u001b[1;33m\u001b[0m\u001b[0m\n\u001b[0m\u001b[0;32m    289\u001b[0m \u001b[1;33m\u001b[0m\u001b[0m\n\u001b[0;32m    290\u001b[0m \u001b[1;33m\u001b[0m\u001b[0m\n",
      "\u001b[1;32mC:\\Users\\rosha\\Anaconda2\\envs\\skLearn\\lib\\site-packages\\sklearn\\neural_network\\multilayer_perceptron.pyc\u001b[0m in \u001b[0;36mpredict\u001b[1;34m(self, X)\u001b[0m\n\u001b[0;32m    951\u001b[0m         \"\"\"\n\u001b[0;32m    952\u001b[0m         \u001b[0mcheck_is_fitted\u001b[0m\u001b[1;33m(\u001b[0m\u001b[0mself\u001b[0m\u001b[1;33m,\u001b[0m \u001b[1;34m\"coefs_\"\u001b[0m\u001b[1;33m)\u001b[0m\u001b[1;33m\u001b[0m\u001b[0m\n\u001b[1;32m--> 953\u001b[1;33m         \u001b[0my_pred\u001b[0m \u001b[1;33m=\u001b[0m \u001b[0mself\u001b[0m\u001b[1;33m.\u001b[0m\u001b[0m_predict\u001b[0m\u001b[1;33m(\u001b[0m\u001b[0mX\u001b[0m\u001b[1;33m)\u001b[0m\u001b[1;33m\u001b[0m\u001b[0m\n\u001b[0m\u001b[0;32m    954\u001b[0m \u001b[1;33m\u001b[0m\u001b[0m\n\u001b[0;32m    955\u001b[0m         \u001b[1;32mif\u001b[0m \u001b[0mself\u001b[0m\u001b[1;33m.\u001b[0m\u001b[0mn_outputs_\u001b[0m \u001b[1;33m==\u001b[0m \u001b[1;36m1\u001b[0m\u001b[1;33m:\u001b[0m\u001b[1;33m\u001b[0m\u001b[0m\n",
      "\u001b[1;32mC:\\Users\\rosha\\Anaconda2\\envs\\skLearn\\lib\\site-packages\\sklearn\\neural_network\\multilayer_perceptron.pyc\u001b[0m in \u001b[0;36m_predict\u001b[1;34m(self, X)\u001b[0m\n\u001b[0;32m    674\u001b[0m                                          layer_units[i + 1])))\n\u001b[0;32m    675\u001b[0m         \u001b[1;31m# forward propagate\u001b[0m\u001b[1;33m\u001b[0m\u001b[1;33m\u001b[0m\u001b[0m\n\u001b[1;32m--> 676\u001b[1;33m         \u001b[0mself\u001b[0m\u001b[1;33m.\u001b[0m\u001b[0m_forward_pass\u001b[0m\u001b[1;33m(\u001b[0m\u001b[0mactivations\u001b[0m\u001b[1;33m)\u001b[0m\u001b[1;33m\u001b[0m\u001b[0m\n\u001b[0m\u001b[0;32m    677\u001b[0m         \u001b[0my_pred\u001b[0m \u001b[1;33m=\u001b[0m \u001b[0mactivations\u001b[0m\u001b[1;33m[\u001b[0m\u001b[1;33m-\u001b[0m\u001b[1;36m1\u001b[0m\u001b[1;33m]\u001b[0m\u001b[1;33m\u001b[0m\u001b[0m\n\u001b[0;32m    678\u001b[0m \u001b[1;33m\u001b[0m\u001b[0m\n",
      "\u001b[1;32mC:\\Users\\rosha\\Anaconda2\\envs\\skLearn\\lib\\site-packages\\sklearn\\neural_network\\multilayer_perceptron.pyc\u001b[0m in \u001b[0;36m_forward_pass\u001b[1;34m(self, activations)\u001b[0m\n\u001b[0;32m    105\u001b[0m             \u001b[1;31m# For the hidden layers\u001b[0m\u001b[1;33m\u001b[0m\u001b[1;33m\u001b[0m\u001b[0m\n\u001b[0;32m    106\u001b[0m             \u001b[1;32mif\u001b[0m \u001b[1;33m(\u001b[0m\u001b[0mi\u001b[0m \u001b[1;33m+\u001b[0m \u001b[1;36m1\u001b[0m\u001b[1;33m)\u001b[0m \u001b[1;33m!=\u001b[0m \u001b[1;33m(\u001b[0m\u001b[0mself\u001b[0m\u001b[1;33m.\u001b[0m\u001b[0mn_layers_\u001b[0m \u001b[1;33m-\u001b[0m \u001b[1;36m1\u001b[0m\u001b[1;33m)\u001b[0m\u001b[1;33m:\u001b[0m\u001b[1;33m\u001b[0m\u001b[0m\n\u001b[1;32m--> 107\u001b[1;33m                 \u001b[0mactivations\u001b[0m\u001b[1;33m[\u001b[0m\u001b[0mi\u001b[0m \u001b[1;33m+\u001b[0m \u001b[1;36m1\u001b[0m\u001b[1;33m]\u001b[0m \u001b[1;33m=\u001b[0m \u001b[0mhidden_activation\u001b[0m\u001b[1;33m(\u001b[0m\u001b[0mactivations\u001b[0m\u001b[1;33m[\u001b[0m\u001b[0mi\u001b[0m \u001b[1;33m+\u001b[0m \u001b[1;36m1\u001b[0m\u001b[1;33m]\u001b[0m\u001b[1;33m)\u001b[0m\u001b[1;33m\u001b[0m\u001b[0m\n\u001b[0m\u001b[0;32m    108\u001b[0m \u001b[1;33m\u001b[0m\u001b[0m\n\u001b[0;32m    109\u001b[0m         \u001b[1;31m# For the last layer\u001b[0m\u001b[1;33m\u001b[0m\u001b[1;33m\u001b[0m\u001b[0m\n",
      "\u001b[1;32mC:\\Users\\rosha\\Anaconda2\\envs\\skLearn\\lib\\site-packages\\sklearn\\neural_network\\_base.pyc\u001b[0m in \u001b[0;36mlogistic\u001b[1;34m(X)\u001b[0m\n\u001b[0;32m     40\u001b[0m         \u001b[0mThe\u001b[0m \u001b[0mtransformed\u001b[0m \u001b[0mdata\u001b[0m\u001b[1;33m.\u001b[0m\u001b[1;33m\u001b[0m\u001b[0m\n\u001b[0;32m     41\u001b[0m     \"\"\"\n\u001b[1;32m---> 42\u001b[1;33m     \u001b[1;32mreturn\u001b[0m \u001b[0mlogistic_sigmoid\u001b[0m\u001b[1;33m(\u001b[0m\u001b[0mX\u001b[0m\u001b[1;33m,\u001b[0m \u001b[0mout\u001b[0m\u001b[1;33m=\u001b[0m\u001b[0mX\u001b[0m\u001b[1;33m)\u001b[0m\u001b[1;33m\u001b[0m\u001b[0m\n\u001b[0m\u001b[0;32m     43\u001b[0m \u001b[1;33m\u001b[0m\u001b[0m\n\u001b[0;32m     44\u001b[0m \u001b[1;33m\u001b[0m\u001b[0m\n",
      "\u001b[1;31mKeyboardInterrupt\u001b[0m: "
     ]
    }
   ],
   "source": [
    "NUM_TIMS_TO_RUN=1\n",
    "TRAIN_SIZE=10\n",
    "sum_test_accuracy_list=np.array([0,0])\n",
    "sum_train_accuracy_list=np.array([0,0])\n",
    "for j in range(NUM_TIMS_TO_RUN):\n",
    "    test_accuracy_list=[]\n",
    "    train_accuracy_list = []\n",
    "    for i in range(1, TRAIN_SIZE):\n",
    "        scaler = StandardScaler()\n",
    "        #print i/100.0\n",
    "        train_data, test_data, train_target, test_target = train_test_split(data, target, test_size=1-i/10.0)\n",
    "        scaler.fit(train_data)\n",
    "        train_data = scaler.transform(train_data)\n",
    "        test_data = scaler.transform(test_data)                 \n",
    "        clf = MLPClassifier(activation='relu', solver='adam')\n",
    "        #clf = tree.DecisionTreeClassifier()\n",
    "        clf.fit(train_data, train_target)\n",
    "        #Fit train Data and test against test data\n",
    "        clf.fit(train_data, train_target)\n",
    "        test_accuracy_list.append([i,clf.score(test_data,test_target)])\n",
    "        #Ftest against training data\n",
    "        train_accuracy_list.append([i,clf.score(train_data,train_target)])\n",
    "    sum_test_accuracy_list = sum_test_accuracy_list + np.array(test_accuracy_list)\n",
    "    sum_train_accuracy_list = sum_train_accuracy_list + np.array(train_accuracy_list)\n",
    "\n",
    "avg_test_prediction= sum_test_accuracy_list/NUM_TIMS_TO_RUN\n",
    "avg_train_prediction =sum_train_accuracy_list/NUM_TIMS_TO_RUN\n",
    "#print avg_train_prediction, avg_test_prediction\n",
    "plt.xlabel('Training Size in percentage')\n",
    "plt.ylabel('Accuracy')\n",
    "plt.ylim((0.8,1))\n",
    "plt.plot(avg_test_prediction[:,0],avg_test_prediction[:,1], label='Test')\n",
    "plt.plot(avg_train_prediction[:,0],avg_train_prediction[:,1], label='Train')\n",
    "plt.title('Tree accuracy vs Training Size percentage')\n",
    "plt.legend()\n",
    "plt.show()"
   ]
  }
 ],
 "metadata": {
  "kernelspec": {
   "display_name": "Python [conda env:skLearn]",
   "language": "python",
   "name": "conda-env-skLearn-py"
  },
  "language_info": {
   "codemirror_mode": {
    "name": "ipython",
    "version": 2
   },
   "file_extension": ".py",
   "mimetype": "text/x-python",
   "name": "python",
   "nbconvert_exporter": "python",
   "pygments_lexer": "ipython2",
   "version": "2.7.15"
  }
 },
 "nbformat": 4,
 "nbformat_minor": 2
}
