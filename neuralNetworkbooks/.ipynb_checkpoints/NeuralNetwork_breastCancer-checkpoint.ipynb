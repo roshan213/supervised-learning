{
 "cells": [
  {
   "cell_type": "code",
   "execution_count": 4,
   "metadata": {},
   "outputs": [
    {
     "ename": "AttributeError",
     "evalue": "shape",
     "output_type": "error",
     "traceback": [
      "\u001b[1;31m---------------------------------------------------------------------------\u001b[0m",
      "\u001b[1;31mAttributeError\u001b[0m                            Traceback (most recent call last)",
      "\u001b[1;32m<ipython-input-4-bafe3b934604>\u001b[0m in \u001b[0;36m<module>\u001b[1;34m()\u001b[0m\n\u001b[0;32m     14\u001b[0m \u001b[1;31m#iris = load_iris()\u001b[0m\u001b[1;33m\u001b[0m\u001b[1;33m\u001b[0m\u001b[0m\n\u001b[0;32m     15\u001b[0m \u001b[0miris\u001b[0m \u001b[1;33m=\u001b[0m \u001b[0mload_breast_cancer\u001b[0m\u001b[1;33m(\u001b[0m\u001b[1;33m)\u001b[0m\u001b[1;33m\u001b[0m\u001b[0m\n\u001b[1;32m---> 16\u001b[1;33m \u001b[1;32mprint\u001b[0m \u001b[0miris\u001b[0m\u001b[1;33m.\u001b[0m\u001b[0mshape\u001b[0m\u001b[1;33m\u001b[0m\u001b[0m\n\u001b[0m",
      "\u001b[1;32mC:\\Users\\rosha\\Anaconda2\\envs\\skLearn\\lib\\site-packages\\sklearn\\utils\\__init__.pyc\u001b[0m in \u001b[0;36m__getattr__\u001b[1;34m(self, key)\u001b[0m\n\u001b[0;32m    102\u001b[0m             \u001b[1;32mreturn\u001b[0m \u001b[0mself\u001b[0m\u001b[1;33m[\u001b[0m\u001b[0mkey\u001b[0m\u001b[1;33m]\u001b[0m\u001b[1;33m\u001b[0m\u001b[0m\n\u001b[0;32m    103\u001b[0m         \u001b[1;32mexcept\u001b[0m \u001b[0mKeyError\u001b[0m\u001b[1;33m:\u001b[0m\u001b[1;33m\u001b[0m\u001b[0m\n\u001b[1;32m--> 104\u001b[1;33m             \u001b[1;32mraise\u001b[0m \u001b[0mAttributeError\u001b[0m\u001b[1;33m(\u001b[0m\u001b[0mkey\u001b[0m\u001b[1;33m)\u001b[0m\u001b[1;33m\u001b[0m\u001b[0m\n\u001b[0m\u001b[0;32m    105\u001b[0m \u001b[1;33m\u001b[0m\u001b[0m\n\u001b[0;32m    106\u001b[0m     \u001b[1;32mdef\u001b[0m \u001b[0m__setstate__\u001b[0m\u001b[1;33m(\u001b[0m\u001b[0mself\u001b[0m\u001b[1;33m,\u001b[0m \u001b[0mstate\u001b[0m\u001b[1;33m)\u001b[0m\u001b[1;33m:\u001b[0m\u001b[1;33m\u001b[0m\u001b[0m\n",
      "\u001b[1;31mAttributeError\u001b[0m: shape"
     ]
    }
   ],
   "source": [
    "from sklearn import tree\n",
    "from sklearn.model_selection import train_test_split\n",
    "import numpy as np\n",
    "from sklearn.datasets import load_iris\n",
    "from sklearn.datasets import load_breast_cancer\n",
    "from sklearn.tree import DecisionTreeClassifier, export_graphviz\n",
    "from sklearn.externals.six import StringIO\n",
    "from IPython.display import Image, display\n",
    "import pydotplus\n",
    "import pandas as pd\n",
    "import numpy as np\n",
    "import matplotlib.pyplot as plt\n",
    "\n",
    "#iris = load_iris()\n",
    "iris = load_breast_cancer()\n",
    "print iris.shape\n"
   ]
  },
  {
   "cell_type": "code",
   "execution_count": 120,
   "metadata": {},
   "outputs": [],
   "source": [
    "NUM_TIMS_TO_RUN=100\n",
    "MAX_DEPTH=15\n",
    "sum_test_accuracy_list=np.array([0,0])\n",
    "sum_train_accuracy_list=np.array([0,0])\n",
    "\n",
    "for j in range(NUM_TIMS_TO_RUN):\n",
    "    test_accuracy_list=[]\n",
    "    train_accuracy_list = []\n",
    "    for i in range(1,MAX_DEPTH):\n",
    "        #clf = tree.DecisionTreeClassifier(max_depth=i)\n",
    "        clf = tree.DecisionTreeClassifier(criterion='gini', max_depth=i, max_leaf_nodes=12)\n",
    "        train_data, test_data, train_target, test_target = train_test_split(iris.data, iris.target, test_size=0.15)\n",
    "        #Fit train Data and test against test data\n",
    "        clf.fit(train_data, train_target)\n",
    "        test_accuracy_list.append([i,clf.score(test_data,test_target)])\n",
    "        \n",
    "        #Ftest against training data\n",
    "        train_accuracy_list.append([i,clf.score(train_data,train_target)])\n",
    "    \n",
    "    sum_test_accuracy_list = sum_test_accuracy_list + np.array(test_accuracy_list)\n",
    "    sum_train_accuracy_list = sum_train_accuracy_list + np.array(train_accuracy_list)\n",
    "\n",
    "avg_test_prediction= sum_test_accuracy_list/NUM_TIMS_TO_RUN\n",
    "avg_train_prediction =sum_train_accuracy_list/NUM_TIMS_TO_RUN\n",
    "#print avg_test_prediction, avg_train_prediction"
   ]
  },
  {
   "cell_type": "code",
   "execution_count": 121,
   "metadata": {},
   "outputs": [
    {
     "data": {
      "image/png": "[encoded data removed]",
      "text/plain": [
       "<Figure size 432x288 with 1 Axes>"
      ]
     },
     "metadata": {
      "needs_background": "light"
     },
     "output_type": "display_data"
    }
   ],
   "source": [
    "plt.xlabel('Depth')\n",
    "plt.ylabel('Accuracy')\n",
    "plt.ylim((.90,1))\n",
    "plt.plot(avg_test_prediction[:,0],avg_test_prediction[:,1], label='Test')\n",
    "plt.plot(avg_train_prediction[:,0],avg_train_prediction[:,1], label='Train')\n",
    "plt.title('Tree accuracy vs depth')\n",
    "plt.legend()\n",
    "plt.show()\n"
   ]
  }
 ],
 "metadata": {
  "kernelspec": {
   "display_name": "Python [conda env:skLearn]",
   "language": "python",
   "name": "conda-env-skLearn-py"
  },
  "language_info": {
   "codemirror_mode": {
    "name": "ipython",
    "version": 2
   },
   "file_extension": ".py",
   "mimetype": "text/x-python",
   "name": "python",
   "nbconvert_exporter": "python",
   "pygments_lexer": "ipython2",
   "version": "2.7.15"
  }
 },
 "nbformat": 4,
 "nbformat_minor": 2
}
