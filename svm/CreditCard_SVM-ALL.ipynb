{
 "cells": [
  {
   "cell_type": "code",
   "execution_count": 1,
   "metadata": {},
   "outputs": [],
   "source": [
    "from sklearn import tree\n",
    "from sklearn.model_selection import train_test_split\n",
    "import numpy as np\n",
    "from sklearn.datasets import load_iris\n",
    "from sklearn.datasets import load_breast_cancer\n",
    "from sklearn.tree import DecisionTreeClassifier, export_graphviz\n",
    "from sklearn.externals.six import StringIO\n",
    "from IPython.display import Image, display\n",
    "import pydotplus\n",
    "import pandas as pd\n",
    "import numpy as np\n",
    "import matplotlib.pyplot as plt\n",
    "from sklearn.preprocessing import LabelEncoder\n",
    "from sklearn.ensemble import AdaBoostClassifier\n",
    "from sklearn import svm\n",
    "\n",
    "\n",
    "\n",
    "df = pd.read_csv(\"../creditcard.csv\")\n",
    "df = df.sample(frac=1)\n",
    "# amount of fraud classes 492 rows.\n",
    "fraud_df = df.loc[df['Class'] == 1]\n",
    "non_fraud_df = df.loc[df['Class'] == 0][:5000]\n",
    "\n",
    "normal_distributed_df = pd.concat([fraud_df, non_fraud_df])\n",
    "\n",
    "# Shuffle dataframe rows\n",
    "fraud_data = normal_distributed_df.sample(frac=1, random_state=42)\n",
    "\n",
    "\n",
    "data = fraud_data.loc[:, fraud_data.columns != 'Class'] \n",
    "target = fraud_data.loc[:, fraud_data.columns == 'Class'] \n",
    "#print list(fraud_data)\n",
    "\n"
   ]
  },
  {
   "cell_type": "code",
   "execution_count": 8,
   "metadata": {},
   "outputs": [],
   "source": [
    "# NUM_TIMS_TO_RUN=1\n",
    "# class_weight='balanced'\n",
    "# probability = True\n",
    "# kernel= ['linear', 'rbf']\n",
    "# import numpy as np\n",
    "\n",
    "# sum_test_accuracy_list=np.array([0,0])\n",
    "# sum_train_accuracy_list=np.array([0,0])\n",
    "# train_data, test_data, train_target, test_target = train_test_split(data, target, test_size=0.15)\n",
    "\n",
    "# for j in range(NUM_TIMS_TO_RUN):\n",
    "#     test_accuracy_list=[]\n",
    "#     train_accuracy_list = []\n",
    "#     counter=0\n",
    "#     for i in kernel:\n",
    "#         clf =  svm.SVC(kernel=i, cache_size= 1000)\n",
    "#         #Fit train Data and test against test data\n",
    "#         clf.fit(train_data, train_target)\n",
    "#         test_accuracy_list.append([counter,clf.score(test_data,test_target)])\n",
    "#         #print test_accuracy_list\n",
    "#         #Ftest against training data\n",
    "#         train_accuracy_list.append([counter,clf.score(train_data,train_target)])\n",
    "#         counter=counter+1\n",
    "\n",
    "    \n",
    "#     sum_test_accuracy_list = sum_test_accuracy_list + np.array(test_accuracy_list)\n",
    "#     sum_train_accuracy_list = sum_train_accuracy_list + np.array(train_accuracy_list)\n",
    "\n",
    "# avg_test_prediction= sum_test_accuracy_list/NUM_TIMS_TO_RUN\n",
    "# avg_train_prediction =sum_train_accuracy_list/NUM_TIMS_TO_RUN\n",
    "# #print avg_test_prediction, avg_train_prediction\n",
    "\n",
    "# plt.xlabel('Kernal')\n",
    "# plt.ylabel('Accuracy')\n",
    "# plt.ylim((.6,1))\n",
    "# plt.xticks(avg_test_prediction[:,0],kernel)\n",
    "# plt.plot(avg_test_prediction[:,0],avg_test_prediction[:,1], label='Test')\n",
    "# plt.plot(avg_train_prediction[:,0],avg_train_prediction[:,1], label='Train')\n",
    "# plt.title('Accuracy vs Kernal')\n",
    "# plt.legend()\n",
    "# plt.show()"
   ]
  },
  {
   "cell_type": "code",
   "execution_count": 9,
   "metadata": {},
   "outputs": [
    {
     "data": {
      "image/png": "[encoded data removed]",
      "text/plain": [
       "<Figure size 432x288 with 1 Axes>"
      ]
     },
     "metadata": {
      "needs_background": "light"
     },
     "output_type": "display_data"
    }
   ],
   "source": [
    "NUM_TIMS_TO_RUN=11\n",
    "\n",
    "GAMMA=['scale','auto']\n",
    "sum_test_accuracy_list=np.array([0,0])\n",
    "sum_train_accuracy_list=np.array([0,0])\n",
    "\n",
    "for j in range(NUM_TIMS_TO_RUN):\n",
    "    test_accuracy_list=[]\n",
    "    train_accuracy_list = []\n",
    "    counter=0\n",
    "    for i in GAMMA:\n",
    "        clf =  svm.SVC(gamma=i)\n",
    "        train_data, test_data, train_target, test_target = train_test_split(data, target, test_size=0.15)\n",
    "        #Fit train Data and test against test data\n",
    "        clf.fit(train_data, train_target)\n",
    "        test_accuracy_list.append([counter,clf.score(test_data,test_target)])\n",
    "        #print test_accuracy_list\n",
    "        #Ftest against training data\n",
    "        train_accuracy_list.append([counter,clf.score(train_data,train_target)])\n",
    "        counter=counter+1\n",
    "\n",
    "    \n",
    "    sum_test_accuracy_list = sum_test_accuracy_list + np.array(test_accuracy_list)\n",
    "    sum_train_accuracy_list = sum_train_accuracy_list + np.array(train_accuracy_list)\n",
    "\n",
    "avg_test_prediction= sum_test_accuracy_list/NUM_TIMS_TO_RUN\n",
    "avg_train_prediction =sum_train_accuracy_list/NUM_TIMS_TO_RUN\n",
    "#print avg_test_prediction, avg_train_prediction\n",
    "\n",
    "plt.xlabel('Gamma')\n",
    "plt.ylabel('Accuracy')\n",
    "plt.ylim((.6,1))\n",
    "plt.xticks(avg_test_prediction[:,0],GAMMA)\n",
    "plt.plot(avg_test_prediction[:,0],avg_test_prediction[:,1], label='Test')\n",
    "plt.plot(avg_train_prediction[:,0],avg_train_prediction[:,1], label='Train')\n",
    "plt.title('Accuracy vs Gamma')\n",
    "plt.legend()\n",
    "plt.show()"
   ]
  },
  {
   "cell_type": "code",
   "execution_count": 10,
   "metadata": {},
   "outputs": [
    {
     "data": {
      "image/png": "[encoded data removed]",
      "text/plain": [
       "<Figure size 432x288 with 1 Axes>"
      ]
     },
     "metadata": {
      "needs_background": "light"
     },
     "output_type": "display_data"
    }
   ],
   "source": [
    "NUM_TIMS_TO_RUN=1\n",
    "# rbf with these:\n",
    "Cs = [0.001, 0.01, 0.1, 1, 10]\n",
    "gammas = [0.001, 0.01, 0.1, 1]\n",
    "#decision_function_shape : ['ovo', 'ovr']\n",
    "sum_test_accuracy_list=np.array([0,0])\n",
    "sum_train_accuracy_list=np.array([0,0])\n",
    "\n",
    "for j in range(NUM_TIMS_TO_RUN):\n",
    "    test_accuracy_list=[]\n",
    "    train_accuracy_list = []\n",
    "    counter=0\n",
    "    for i in Cs:\n",
    "        clf =  svm.SVC(kernel='linear', gamma=i)\n",
    "        train_data, test_data, train_target, test_target = train_test_split(data, target, test_size=0.15)\n",
    "        #Fit train Data and test against test data\n",
    "        clf.fit(train_data, train_target)\n",
    "        test_accuracy_list.append([counter,clf.score(test_data,test_target)])\n",
    "        #print test_accuracy_list\n",
    "        #Ftest against training data\n",
    "        train_accuracy_list.append([counter,clf.score(train_data,train_target)])\n",
    "        counter=counter+1\n",
    "\n",
    "    \n",
    "    sum_test_accuracy_list = sum_test_accuracy_list + np.array(test_accuracy_list)\n",
    "    sum_train_accuracy_list = sum_train_accuracy_list + np.array(train_accuracy_list)\n",
    "\n",
    "avg_test_prediction= sum_test_accuracy_list/NUM_TIMS_TO_RUN\n",
    "avg_train_prediction =sum_train_accuracy_list/NUM_TIMS_TO_RUN\n",
    "#print avg_test_prediction, avg_train_prediction\n",
    "\n",
    "plt.xlabel('gammas')\n",
    "plt.ylabel('Accuracy')\n",
    "plt.ylim((.6,1))\n",
    "plt.xticks(avg_test_prediction[:,0],gammas)\n",
    "plt.plot(avg_test_prediction[:,0],avg_test_prediction[:,1], label='Test')\n",
    "plt.plot(avg_train_prediction[:,0],avg_train_prediction[:,1], label='Train')\n",
    "plt.title('Accuracy vs gammas')\n",
    "plt.legend()\n",
    "plt.show()"
   ]
  },
  {
   "cell_type": "code",
   "execution_count": 2,
   "metadata": {},
   "outputs": [
    {
     "name": "stderr",
     "output_type": "stream",
     "text": [
      "C:\\Users\\rosha\\Anaconda2\\envs\\skLearn\\lib\\site-packages\\sklearn\\utils\\validation.py:761: DataConversionWarning: A column-vector y was passed when a 1d array was expected. Please change the shape of y to (n_samples, ), for example using ravel().\n",
      "  y = column_or_1d(y, warn=True)\n",
      "C:\\Users\\rosha\\Anaconda2\\envs\\skLearn\\lib\\site-packages\\sklearn\\svm\\base.py:196: FutureWarning: The default value of gamma will change from 'auto' to 'scale' in version 0.22 to account better for unscaled features. Set gamma explicitly to 'auto' or 'scale' to avoid this warning.\n",
      "  \"avoid this warning.\", FutureWarning)\n"
     ]
    },
    {
     "data": {
      "image/png": "[encoded data removed]",
      "text/plain": [
       "<Figure size 432x288 with 1 Axes>"
      ]
     },
     "metadata": {
      "needs_background": "light"
     },
     "output_type": "display_data"
    }
   ],
   "source": [
    "NUM_TIMS_TO_RUN=5\n",
    "TRAIN_SIZE=10\n",
    "sum_test_accuracy_list=np.array([0,0])\n",
    "sum_train_accuracy_list=np.array([0,0])\n",
    "for j in range(NUM_TIMS_TO_RUN):\n",
    "    test_accuracy_list=[]\n",
    "    train_accuracy_list = []\n",
    "    for i in range(1,TRAIN_SIZE):\n",
    "        clf = svm.SVC()\n",
    "        #clf = tree.DecisionTreeClassifier()\n",
    "        train_data, test_data, train_target, test_target = train_test_split(data, target, test_size=1-i/10.0)\n",
    "        clf.fit(train_data, train_target)\n",
    "        #Fit train Data and test against test data\n",
    "        clf.fit(train_data, train_target)\n",
    "        test_accuracy_list.append([i*10,clf.score(test_data,test_target)])\n",
    "        \n",
    "        #Ftest against training data\n",
    "        train_accuracy_list.append([i*10,clf.score(train_data,train_target)])\n",
    "    sum_test_accuracy_list = sum_test_accuracy_list + np.array(test_accuracy_list)\n",
    "    sum_train_accuracy_list = sum_train_accuracy_list + np.array(train_accuracy_list)\n",
    "\n",
    "avg_test_prediction= sum_test_accuracy_list/NUM_TIMS_TO_RUN\n",
    "avg_train_prediction =sum_train_accuracy_list/NUM_TIMS_TO_RUN\n",
    "#print avg_train_prediction, avg_test_prediction\n",
    "plt.xlabel('Training Size in percentage')\n",
    "plt.ylabel('Accuracy')\n",
    "plt.ylim((0.6,1))\n",
    "plt.plot(avg_test_prediction[:,0],avg_test_prediction[:,1], label='Test')\n",
    "plt.plot(avg_train_prediction[:,0],avg_train_prediction[:,1], label='Train')\n",
    "plt.title('SVM Acccuracy vs Training Size percentage')\n",
    "plt.legend()\n",
    "plt.show()"
   ]
  },
  {
   "cell_type": "code",
   "execution_count": 6,
   "metadata": {},
   "outputs": [
    {
     "name": "stdout",
     "output_type": "stream",
     "text": [
      "[[ 10.           1.        ]\n",
      " [ 20.           1.        ]\n",
      " [ 30.           1.        ]\n",
      " [ 40.           0.99990893]\n",
      " [ 50.           0.99992717]\n",
      " [ 60.           0.9999393 ]\n",
      " [ 70.           0.99979188]\n",
      " [ 80.           0.99981789]\n",
      " [ 90.           0.99983812]] [[ 10.           0.9119563 ]\n",
      " [ 20.           0.9115157 ]\n",
      " [ 30.           0.91344603]\n",
      " [ 40.           0.91262136]\n",
      " [ 50.           0.91398398]\n",
      " [ 60.           0.9167046 ]\n",
      " [ 70.           0.9157767 ]\n",
      " [ 80.           0.91028207]\n",
      " [ 90.           0.91127273]]\n"
     ]
    },
    {
     "data": {
      "image/png": "[encoded data removed]",
      "text/plain": [
       "<Figure size 432x288 with 1 Axes>"
      ]
     },
     "metadata": {
      "needs_background": "light"
     },
     "output_type": "display_data"
    }
   ],
   "source": [
    "print avg_train_prediction, avg_test_prediction\n",
    "\n",
    "plt.xlabel('Training Size in percentage')\n",
    "plt.ylabel('Accuracy')\n",
    "plt.ylim((0.9,1))\n",
    "plt.plot(avg_test_prediction[:,0],avg_test_prediction[:,1], label='Test')\n",
    "plt.plot(avg_train_prediction[:,0],avg_train_prediction[:,1], label='Train')\n",
    "plt.title('SVM Acccuracy vs Training Size percentage')\n",
    "plt.legend()\n",
    "plt.show()"
   ]
  },
  {
   "cell_type": "code",
   "execution_count": null,
   "metadata": {},
   "outputs": [],
   "source": [
    "from sklearn.model_selection import GridSearchCV\n",
    "from sklearn.model_selection import StratifiedKFold\n",
    "from sklearn.metrics import accuracy_score\n",
    "from sklearn import svm\n",
    "\n",
    "\n",
    "train_data, test_data, train_target, test_target = train_test_split(data, target, test_size=0.25)\n",
    "\n",
    "skf = StratifiedKFold(n_splits = 5, shuffle=True, random_state=268)\n",
    "\n",
    "\n",
    "decision_function_shape = ['ovo', 'ovr']\n",
    "gammas = [0.001, 0.01, 0.1, 1]\n",
    "class_weight=['balanced', None]\n",
    "probability = [True, False]\n",
    "kernel= ['linear', 'rbf']\n",
    "\n",
    "param_grid = {'kernel' : kernel,\n",
    "              'gamma' : gammas,\n",
    "              'probability':probability, \n",
    "              'class_weight':class_weight\n",
    "                }\n",
    "\n",
    "#create a grid\n",
    "grid_tree = GridSearchCV(svm.SVC(kernel='rbf'), param_grid, scoring = 'accuracy', n_jobs=-1, cv=skf)\n",
    "\n",
    "#training\n",
    "%time grid_tree.fit(train_data, train_target)\n",
    "\n",
    "#let's see the best estimator\n",
    "best_tree = grid_tree.best_estimator_\n",
    "print(best_tree)\n",
    "print(\"_\"*40)\n",
    "#with its score\n",
    "print(\"Cross-validated best score {}%\".format(round(grid_tree.best_score_ * 100,3)))\n",
    "#score on test\n",
    "predictions = best_tree.predict(test_data)\n",
    "print(\"Test score: {}%\".format(round(accuracy_score(y_true = test_target, y_pred = predictions) * 100,3)))\n",
    "\n"
   ]
  }
 ],
 "metadata": {
  "kernelspec": {
   "display_name": "Python [conda env:skLearn]",
   "language": "python",
   "name": "conda-env-skLearn-py"
  },
  "language_info": {
   "codemirror_mode": {
    "name": "ipython",
    "version": 2
   },
   "file_extension": ".py",
   "mimetype": "text/x-python",
   "name": "python",
   "nbconvert_exporter": "python",
   "pygments_lexer": "ipython2",
   "version": "2.7.15"
  }
 },
 "nbformat": 4,
 "nbformat_minor": 2
}
